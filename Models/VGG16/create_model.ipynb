{
 "cells": [
  {
   "cell_type": "markdown",
   "id": "cb49e1b4",
   "metadata": {},
   "source": [
    "# VGG16 Skin Cancer Binary Classifier using HAM10000 CSV + Image Folder\n",
    "\n",
    "# This notebook trains a binary classifier (benign vs malignant) on the HAM10000 skin cancer dataset\n",
    "# using the VGG16 pretrained model with a custom classification head.\n",
    "\n",
    "# Step 1: Import necessary libraries"
   ]
  },
  {
   "cell_type": "code",
   "execution_count": 1,
   "id": "7e2c7770",
   "metadata": {},
   "outputs": [],
   "source": [
    "import os\n",
    "import numpy as np\n",
    "import pandas as pd\n",
    "import matplotlib.pyplot as plt\n",
    "from tensorflow.keras.preprocessing.image import ImageDataGenerator\n",
    "from tensorflow.keras.applications import VGG16\n",
    "from tensorflow.keras.models import Model\n",
    "from tensorflow.keras.layers import GlobalAveragePooling2D, Dense, Dropout\n",
    "from tensorflow.keras.optimizers import Adam\n",
    "from sklearn.metrics import classification_report, confusion_matrix"
   ]
  },
  {
   "cell_type": "markdown",
   "id": "788283f7",
   "metadata": {},
   "source": [
    "# Step 2: Define paths and parameters"
   ]
  },
  {
   "cell_type": "code",
   "execution_count": null,
   "id": "00baba47",
   "metadata": {},
   "outputs": [],
   "source": [
    "IMG_DIR = '../../Data/HAM10000_Images'  # Folder with all images\n",
    "CSV_PATH = '../../Data/HAM10000_metadata_binary.csv'  # CSV with image_id and binary_label\n",
    "IMG_SIZE = (224, 224)\n",
    "BATCH_SIZE = 32\n",
    "EPOCHS = 10"
   ]
  },
  {
   "cell_type": "markdown",
   "id": "123f660a",
   "metadata": {},
   "source": [
    "# Step 3: Load and process the metadata CSV\n",
    "# This ensures each image ID is mapped to a filename and label"
   ]
  },
  {
   "cell_type": "code",
   "execution_count": 7,
   "id": "7d83cee1",
   "metadata": {},
   "outputs": [
    {
     "name": "stdout",
     "output_type": "stream",
     "text": [
      "Class distribution:\n",
      "label\n",
      "benign       8061\n",
      "malignant    1954\n",
      "Name: count, dtype: int64\n"
     ]
    }
   ],
   "source": [
    "# Load the CSV\n",
    "df = pd.read_csv(CSV_PATH)\n",
    "\n",
    "# Add '.jpg' to image IDs to match actual filenames\n",
    "df['filename'] = df['image_id'] + '.jpg'\n",
    "\n",
    "# Rename label column to match Keras expectations\n",
    "df['label'] = df['binary_label']\n",
    "\n",
    "# Print class distribution for sanity check\n",
    "print(\"Class distribution:\")\n",
    "print(df['label'].value_counts())"
   ]
  },
  {
   "cell_type": "markdown",
   "id": "b9b817e8",
   "metadata": {},
   "source": [
    "# Step 4: Create image data generators for training and validation\n",
    "# This includes augmentation and rescaling"
   ]
  },
  {
   "cell_type": "code",
   "execution_count": null,
   "id": "d3c57a7b",
   "metadata": {},
   "outputs": [
    {
     "name": "stdout",
     "output_type": "stream",
     "text": [
      "Found 8012 validated image filenames belonging to 2 classes.\n",
      "Found 2003 validated image filenames belonging to 2 classes.\n"
     ]
    }
   ],
   "source": [
    "datagen = ImageDataGenerator(\n",
    "    rescale=1./255,\n",
    "    validation_split=0.2,\n",
    "    horizontal_flip=True,\n",
    "    rotation_range=10,   zoom_range=0.1\n",
    ")\n",
    "\n",
    "# Load training data from dataframe\n",
    "train_gen = datagen.flow_from_dataframe(\n",
    "    dataframe=df,\n",
    "    directory=IMG_DIR,\n",
    "    x_col='filename',\n",
    "    y_col='label',\n",
    "    subset='training',\n",
    "    target_size=IMG_SIZE,\n",
    "    class_mode='binary',\n",
    "    batch_size=BATCH_SIZE,\n",
    "    shuffle=True\n",
    ")\n",
    "\n",
    "# Load validation data from dataframe\n",
    "val_gen = datagen.flow_from_dataframe(\n",
    "    dataframe=df,\n",
    "    directory=IMG_DIR,\n",
    "    x_col='filename',\n",
    "    y_col='label',\n",
    "    subset='validation',\n",
    "    target_size=IMG_SIZE,\n",
    "    class_mode='binary',\n",
    "    batch_size=BATCH_SIZE,\n",
    "    shuffle=False\n",
    ")"
   ]
  },
  {
   "cell_type": "markdown",
   "id": "fac18c97",
   "metadata": {},
   "source": [
    "# Step 5: Load the VGG16 base model (without top) and add a custom head"
   ]
  },
  {
   "cell_type": "code",
   "execution_count": 9,
   "id": "ec6eec91",
   "metadata": {},
   "outputs": [],
   "source": [
    "# Load pretrained VGG16 model without the classification head\n",
    "base_model = VGG16(include_top=False, weights='imagenet', input_shape=(224, 224, 3))\n",
    "\n",
    "# Freeze all convolutional layers to retain pretrained features\n",
    "for layer in base_model.layers:\n",
    "    layer.trainable = False\n",
    "\n",
    "# Add custom fully connected classification head\n",
    "x = base_model.output\n",
    "x = GlobalAveragePooling2D()(x)\n",
    "x = Dense(128, activation='relu')(x)\n",
    "x = Dropout(0.5)(x)\n",
    "predictions = Dense(1, activation='sigmoid')(x)\n",
    "\n",
    "# Define full model\n",
    "model = Model(inputs=base_model.input, outputs=predictions)"
   ]
  },
  {
   "cell_type": "markdown",
   "id": "884000db",
   "metadata": {},
   "source": [
    "# Step 6: Compile the model with Adam optimizer and binary cross-entropy loss"
   ]
  },
  {
   "cell_type": "code",
   "execution_count": 10,
   "id": "185ef4ac",
   "metadata": {},
   "outputs": [],
   "source": [
    "model.compile(optimizer=Adam(learning_rate=1e-4),\n",
    "              loss='binary_crossentropy',\n",
    "              metrics=['accuracy'])"
   ]
  },
  {
   "cell_type": "markdown",
   "id": "990e5a75",
   "metadata": {},
   "source": [
    "# Step 7: Train the model on the training set and validate on the validation set"
   ]
  },
  {
   "cell_type": "code",
   "execution_count": 11,
   "id": "2c516f0e",
   "metadata": {},
   "outputs": [
    {
     "name": "stderr",
     "output_type": "stream",
     "text": [
      "c:\\Users\\azizc\\AppData\\Local\\Programs\\Python\\Python312\\Lib\\site-packages\\keras\\src\\trainers\\data_adapters\\py_dataset_adapter.py:121: UserWarning: Your `PyDataset` class should call `super().__init__(**kwargs)` in its constructor. `**kwargs` can include `workers`, `use_multiprocessing`, `max_queue_size`. Do not pass these arguments to `fit()`, as they will be ignored.\n",
      "  self._warn_if_super_not_called()\n"
     ]
    },
    {
     "name": "stdout",
     "output_type": "stream",
     "text": [
      "Epoch 1/10\n",
      "\u001b[1m251/251\u001b[0m \u001b[32m━━━━━━━━━━━━━━━━━━━━\u001b[0m\u001b[37m\u001b[0m \u001b[1m589s\u001b[0m 2s/step - accuracy: 0.7438 - loss: 0.5421 - val_accuracy: 0.6046 - val_loss: 0.8994\n",
      "Epoch 2/10\n",
      "\u001b[1m251/251\u001b[0m \u001b[32m━━━━━━━━━━━━━━━━━━━━\u001b[0m\u001b[37m\u001b[0m \u001b[1m600s\u001b[0m 2s/step - accuracy: 0.8556 - loss: 0.4119 - val_accuracy: 0.6046 - val_loss: 0.8475\n",
      "Epoch 3/10\n",
      "\u001b[1m251/251\u001b[0m \u001b[32m━━━━━━━━━━━━━━━━━━━━\u001b[0m\u001b[37m\u001b[0m \u001b[1m616s\u001b[0m 2s/step - accuracy: 0.8480 - loss: 0.3884 - val_accuracy: 0.6011 - val_loss: 0.7959\n",
      "Epoch 4/10\n",
      "\u001b[1m251/251\u001b[0m \u001b[32m━━━━━━━━━━━━━━━━━━━━\u001b[0m\u001b[37m\u001b[0m \u001b[1m593s\u001b[0m 2s/step - accuracy: 0.8545 - loss: 0.3551 - val_accuracy: 0.5976 - val_loss: 0.8195\n",
      "Epoch 5/10\n",
      "\u001b[1m251/251\u001b[0m \u001b[32m━━━━━━━━━━━━━━━━━━━━\u001b[0m\u001b[37m\u001b[0m \u001b[1m587s\u001b[0m 2s/step - accuracy: 0.8570 - loss: 0.3292 - val_accuracy: 0.5886 - val_loss: 0.8432\n",
      "Epoch 6/10\n",
      "\u001b[1m251/251\u001b[0m \u001b[32m━━━━━━━━━━━━━━━━━━━━\u001b[0m\u001b[37m\u001b[0m \u001b[1m585s\u001b[0m 2s/step - accuracy: 0.8664 - loss: 0.3153 - val_accuracy: 0.5681 - val_loss: 0.8350\n",
      "Epoch 7/10\n",
      "\u001b[1m251/251\u001b[0m \u001b[32m━━━━━━━━━━━━━━━━━━━━\u001b[0m\u001b[37m\u001b[0m \u001b[1m582s\u001b[0m 2s/step - accuracy: 0.8766 - loss: 0.2979 - val_accuracy: 0.5637 - val_loss: 0.8549\n",
      "Epoch 8/10\n",
      "\u001b[1m251/251\u001b[0m \u001b[32m━━━━━━━━━━━━━━━━━━━━\u001b[0m\u001b[37m\u001b[0m \u001b[1m599s\u001b[0m 2s/step - accuracy: 0.8759 - loss: 0.3023 - val_accuracy: 0.5517 - val_loss: 0.8622\n",
      "Epoch 9/10\n",
      "\u001b[1m251/251\u001b[0m \u001b[32m━━━━━━━━━━━━━━━━━━━━\u001b[0m\u001b[37m\u001b[0m \u001b[1m604s\u001b[0m 2s/step - accuracy: 0.8787 - loss: 0.2936 - val_accuracy: 0.5457 - val_loss: 0.8893\n",
      "Epoch 10/10\n",
      "\u001b[1m251/251\u001b[0m \u001b[32m━━━━━━━━━━━━━━━━━━━━\u001b[0m\u001b[37m\u001b[0m \u001b[1m591s\u001b[0m 2s/step - accuracy: 0.8891 - loss: 0.2855 - val_accuracy: 0.5402 - val_loss: 0.9060\n"
     ]
    }
   ],
   "source": [
    "history = model.fit(train_gen, validation_data=val_gen, epochs=EPOCHS)"
   ]
  },
  {
   "cell_type": "markdown",
   "id": "8741799f",
   "metadata": {},
   "source": [
    "# Step 8: Evaluate the model on validation data"
   ]
  },
  {
   "cell_type": "code",
   "execution_count": 12,
   "id": "73351343",
   "metadata": {},
   "outputs": [
    {
     "name": "stdout",
     "output_type": "stream",
     "text": [
      "\u001b[1m63/63\u001b[0m \u001b[32m━━━━━━━━━━━━━━━━━━━━\u001b[0m\u001b[37m\u001b[0m \u001b[1m118s\u001b[0m 2s/step\n",
      "Classification Report:\n",
      "              precision    recall  f1-score   support\n",
      "\n",
      "      benign       0.59      0.78      0.67      1211\n",
      "   malignant       0.35      0.18      0.24       792\n",
      "\n",
      "    accuracy                           0.54      2003\n",
      "   macro avg       0.47      0.48      0.46      2003\n",
      "weighted avg       0.50      0.54      0.50      2003\n",
      "\n",
      "Confusion Matrix:\n",
      "[[939 272]\n",
      " [646 146]]\n"
     ]
    }
   ],
   "source": [
    "# Predict class labels and print classification report and confusion matrix\n",
    "val_gen.reset()\n",
    "y_true = val_gen.classes\n",
    "y_pred = model.predict(val_gen, verbose=1)\n",
    "y_pred_binary = (y_pred > 0.5).astype(int).reshape(-1)\n",
    "\n",
    "# Print classification metrics\n",
    "print(\"Classification Report:\")\n",
    "print(classification_report(y_true, y_pred_binary, target_names=['benign', 'malignant']))\n",
    "\n",
    "print(\"Confusion Matrix:\")\n",
    "print(confusion_matrix(y_true, y_pred_binary))"
   ]
  },
  {
   "cell_type": "markdown",
   "id": "d20e9fa6",
   "metadata": {},
   "source": [
    "# Step 9: Plot training and validation accuracy and loss"
   ]
  },
  {
   "cell_type": "code",
   "execution_count": 13,
   "id": "52f54e86",
   "metadata": {},
   "outputs": [
    {
     "data": {
      "image/png": "[encoded data removed]",
      "text/plain": [
       "<Figure size 1200x400 with 2 Axes>"
      ]
     },
     "metadata": {},
     "output_type": "display_data"
    }
   ],
   "source": [
    "plt.figure(figsize=(12, 4))\n",
    "plt.subplot(1, 2, 1)\n",
    "plt.plot(history.history['accuracy'], label='Train Accuracy')\n",
    "plt.plot(history.history['val_accuracy'], label='Val Accuracy')\n",
    "plt.legend()\n",
    "plt.title(\"Accuracy\")\n",
    "\n",
    "plt.subplot(1, 2, 2)\n",
    "plt.plot(history.history['loss'], label='Train Loss')\n",
    "plt.plot(history.history['val_loss'], label='Val Loss')\n",
    "plt.legend()\n",
    "plt.title(\"Loss\")\n",
    "\n",
    "plt.tight_layout()\n",
    "plt.show()"
   ]
  },
  {
   "cell_type": "markdown",
   "id": "4c481e93",
   "metadata": {},
   "source": [
    "# Save the model"
   ]
  },
  {
   "cell_type": "code",
   "execution_count": 16,
   "id": "71529b2c",
   "metadata": {},
   "outputs": [
    {
     "name": "stderr",
     "output_type": "stream",
     "text": [
      "WARNING:absl:You are saving your model as an HDF5 file via `model.save()` or `keras.saving.save_model(model)`. This file format is considered legacy. We recommend using instead the native Keras format, e.g. `model.save('my_model.keras')` or `keras.saving.save_model(model, 'my_model.keras')`. \n"
     ]
    }
   ],
   "source": [
    "model.save('vgg16_skin_cancer.h5')"
   ]
  },
  {
   "cell_type": "markdown",
   "id": "de666caa",
   "metadata": {},
   "source": [
    "# Load the model later"
   ]
  },
  {
   "cell_type": "code",
   "execution_count": null,
   "id": "e86d5b09",
   "metadata": {},
   "outputs": [],
   "source": [
    "from tensorflow.keras.models import load_model\n",
    "\n",
    "model = load_model('vgg16_skin_cancer.h5')"
   ]
  }
 ],
 "metadata": {
  "kernelspec": {
   "display_name": "Python 3",
   "language": "python",
   "name": "python3"
  },
  "language_info": {
   "codemirror_mode": {
    "name": "ipython",
    "version": 3
   },
   "file_extension": ".py",
   "mimetype": "text/x-python",
   "name": "python",
   "nbconvert_exporter": "python",
   "pygments_lexer": "ipython3",
   "version": "3.12.3"
  }
 },
 "nbformat": 4,
 "nbformat_minor": 5
}
